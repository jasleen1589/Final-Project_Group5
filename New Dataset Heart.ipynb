{
  "nbformat": 4,
  "nbformat_minor": 0,
  "metadata": {
    "colab": {
      "provenance": [],
      "authorship_tag": "ABX9TyNpiKqtsscaZ2skbjOHbFrJ",
      "include_colab_link": true
    },
    "kernelspec": {
      "name": "python3",
      "display_name": "Python 3"
    },
    "language_info": {
      "name": "python"
    }
  },
  "cells": [
    {
      "cell_type": "markdown",
      "metadata": {
        "id": "view-in-github",
        "colab_type": "text"
      },
      "source": [
        "<a href=\"https://colab.research.google.com/github/jasleen1589/Final-Project_Group5/blob/jkaur/New%20Dataset%20Heart.ipynb\" target=\"_parent\"><img src=\"https://colab.research.google.com/assets/colab-badge.svg\" alt=\"Open In Colab\"/></a>"
      ]
    },
    {
      "cell_type": "code",
      "execution_count": 1,
      "metadata": {
        "colab": {
          "base_uri": "https://localhost:8080/"
        },
        "id": "mLZHB41njup_",
        "outputId": "1f71eed2-3c26-4c0d-915f-12e0c736b7d0"
      },
      "outputs": [
        {
          "output_type": "stream",
          "name": "stdout",
          "text": [
            "Collecting ucimlrepo\n",
            "  Downloading ucimlrepo-0.0.6-py3-none-any.whl (8.0 kB)\n",
            "Installing collected packages: ucimlrepo\n",
            "Successfully installed ucimlrepo-0.0.6\n"
          ]
        }
      ],
      "source": [
        "pip install ucimlrepo"
      ]
    },
    {
      "cell_type": "code",
      "source": [
        "from ucimlrepo import fetch_ucirepo\n",
        "\n",
        "# fetch dataset\n",
        "statlog_heart = fetch_ucirepo(id=145)\n",
        "\n",
        "# data (as pandas dataframes)\n",
        "X = statlog_heart.data.features\n",
        "y = statlog_heart.data.targets\n",
        "\n",
        "# metadata\n",
        "print(statlog_heart.metadata)\n",
        "\n",
        "# variable information\n",
        "print(statlog_heart.variables)\n"
      ],
      "metadata": {
        "colab": {
          "base_uri": "https://localhost:8080/"
        },
        "id": "1sa27uVKjw-_",
        "outputId": "81dc321a-c497-40d0-b141-ae6680189795"
      },
      "execution_count": 2,
      "outputs": [
        {
          "output_type": "stream",
          "name": "stdout",
          "text": [
            "{'uci_id': 145, 'name': 'Statlog (Heart)', 'repository_url': 'https://archive.ics.uci.edu/dataset/145/statlog+heart', 'data_url': 'https://archive.ics.uci.edu/static/public/145/data.csv', 'abstract': 'This dataset is a heart disease database similar to a database already present in the repository (Heart Disease databases) but in a slightly different form', 'area': 'Health and Medicine', 'tasks': ['Classification'], 'characteristics': ['Multivariate'], 'num_instances': 270, 'num_features': 13, 'feature_types': ['Categorical', 'Real'], 'demographics': ['Age', 'Sex'], 'target_col': ['heart-disease'], 'index_col': None, 'has_missing_values': 'no', 'missing_values_symbol': None, 'year_of_dataset_creation': None, 'last_updated': 'Fri Feb 09 2024', 'dataset_doi': '10.24432/C57303', 'creators': [], 'intro_paper': None, 'additional_info': {'summary': 'Cost Matrix\\r\\n\\r\\n_______\\t abse  pres\\r\\nabsence\\t 0\\t1\\r\\npresence  5\\t0\\r\\n\\r\\nwhere the rows represent the true values and the columns the predicted.\\r\\n', 'purpose': None, 'funded_by': None, 'instances_represent': None, 'recommended_data_splits': None, 'sensitive_data': None, 'preprocessing_description': None, 'variable_info': '\\r\\nAttribute Information:\\r\\n------------------------\\r\\n      -- 1. age       \\r\\n      -- 2. sex       \\r\\n      -- 3. chest pain type  (4 values)       \\r\\n      -- 4. resting blood pressure  \\r\\n      -- 5. serum cholestoral in mg/dl      \\r\\n      -- 6. fasting blood sugar > 120 mg/dl       \\r\\n      -- 7. resting electrocardiographic results  (values 0,1,2) \\r\\n      -- 8. maximum heart rate achieved  \\r\\n      -- 9. exercise induced angina    \\r\\n      -- 10. oldpeak = ST depression induced by exercise relative to rest   \\r\\n      -- 11. the slope of the peak exercise ST segment     \\r\\n      -- 12. number of major vessels (0-3) colored by flourosopy        \\r\\n      -- 13.  thal: 3 = normal; 6 = fixed defect; 7 = reversable defect     \\r\\n\\r\\nAttributes types\\r\\n-----------------\\r\\n\\r\\nReal: 1,4,5,8,10,12\\r\\nOrdered:11,\\r\\nBinary: 2,6,9\\r\\nNominal:7,3,13\\r\\n\\r\\nVariable to be predicted\\r\\n------------------------\\r\\nAbsence (1) or presence (2) of heart disease\\r\\n', 'citation': None}}\n",
            "                    name     role         type demographic  \\\n",
            "0                    age  Feature   Continuous         Age   \n",
            "1                    sex  Feature       Binary         Sex   \n",
            "2             chest-pain  Feature  Categorical        None   \n",
            "3                rest-bp  Feature   Continuous        None   \n",
            "4             serum-chol  Feature   Continuous        None   \n",
            "5    fasting-blood-sugar  Feature       Binary        None   \n",
            "6   electrocardiographic  Feature  Categorical        None   \n",
            "7         max-heart-rate  Feature   Continuous        None   \n",
            "8                 angina  Feature       Binary        None   \n",
            "9                oldpeak  Feature   Continuous        None   \n",
            "10                 slope  Feature      Integer        None   \n",
            "11         major-vessels  Feature   Continuous        None   \n",
            "12                  thal  Feature  Categorical        None   \n",
            "13         heart-disease   Target      Integer        None   \n",
            "\n",
            "                                          description  units missing_values  \n",
            "0                                                None   None             no  \n",
            "1                                                None   None             no  \n",
            "2                                     chest pain type   None             no  \n",
            "3                              resting blood pressure   None             no  \n",
            "4                                   serum cholesterol  mg/dl             no  \n",
            "5                     fasting blood sugar > 120 mg/dl   None             no  \n",
            "6                resting electrocardiographic results   None             no  \n",
            "7                         maximum heart rate achieved   None             no  \n",
            "8                             exercise induced anigna   None             no  \n",
            "9   oldpeak = ST depression induced by exercise re...   None             no  \n",
            "10           the slope of the peak exercise ST sgment   None             no  \n",
            "11  number of major vessels (0-3) colored by fluor...   None             no  \n",
            "12  thal: 3 = normal; 6 = fixed defect; 7 = revers...   None             no  \n",
            "13                                               None   None             no  \n"
          ]
        }
      ]
    },
    {
      "cell_type": "code",
      "source": [
        "import pandas as pd\n",
        "\n",
        "# Replace 'your_dat_file.dat' with the path to your .dat file\n",
        "dat_file_path = '/content/heart.dat'\n",
        "# Replace 'your_output_file.csv' with the desired output CSV file name\n",
        "csv_file_path = 'heart_new.csv'\n",
        "\n",
        "# Load the .dat file\n",
        "# Adjust the delimiter parameter if your file uses a different delimiter\n",
        "df = pd.read_csv(dat_file_path, delimiter=',')\n",
        "\n",
        "# Save the dataframe to a .csv file\n",
        "df.to_csv(csv_file_path, index=False)\n"
      ],
      "metadata": {
        "id": "eEFeOfcLl1s5"
      },
      "execution_count": 5,
      "outputs": []
    },
    {
      "cell_type": "code",
      "source": [
        "# Assuming you've uploaded the CSV to your Google Colab session\n",
        "df = pd.read_csv('/content/heart_new.csv')\n"
      ],
      "metadata": {
        "id": "yPEXsSJdmF13"
      },
      "execution_count": 6,
      "outputs": []
    }
  ]
}